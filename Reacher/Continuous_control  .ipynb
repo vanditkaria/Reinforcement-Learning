{
 "cells": [
  {
   "cell_type": "markdown",
   "metadata": {},
   "source": [
    "In this notebook, we will learn  how to sol the Unity ML-Agents environment for the second project of the Deep Reinforcement Learning Nanodegree program."
   ]
  },
  {
   "cell_type": "code",
   "execution_count": 1,
   "metadata": {},
   "outputs": [
    {
     "name": "stderr",
     "output_type": "stream",
     "text": [
      "INFO:unityagents:\n",
      "'Academy' started successfully!\n",
      "Unity Academy name: Academy\n",
      "        Number of Brains: 1\n",
      "        Number of External Brains : 1\n",
      "        Lesson number : 0\n",
      "        Reset Parameters :\n",
      "\t\tgoal_speed -> 1.0\n",
      "\t\tgoal_size -> 5.0\n",
      "Unity brain name: ReacherBrain\n",
      "        Number of Visual Observations (per agent): 0\n",
      "        Vector Observation space type: continuous\n",
      "        Vector Observation space size (per agent): 33\n",
      "        Number of stacked Vector Observation: 1\n",
      "        Vector Action space type: continuous\n",
      "        Vector Action space size (per agent): 4\n",
      "        Vector Action descriptions: , , , \n"
     ]
    }
   ],
   "source": [
    "from unityagents import UnityEnvironment\n",
    "from ddpr import *\n",
    "import numpy as np\n",
    "env = UnityEnvironment(file_name='Reacher_Linux/Reacher.x86_64')\n",
    "# get the default brain\n",
    "brain_name = env.brain_names[0]\n",
    "brain = env.brains[brain_name]\n",
    "        "
   ]
  },
  {
   "cell_type": "code",
   "execution_count": 2,
   "metadata": {},
   "outputs": [
    {
     "name": "stdout",
     "output_type": "stream",
     "text": [
      "20\n",
      "4\n"
     ]
    }
   ],
   "source": [
    "env_info = env.reset(train_mode=True)[brain_name]     # reset the environment    \n",
    "num_agents = len(env_info.agents)\n",
    "print(num_agents)\n",
    "states = env_info.vector_observations\n",
    "action_size = brain.vector_action_space_size\n",
    "# get the current state (for each agent)\n",
    "scores = np.zeros(num_agents)\n",
    "replaybuffer=ReplayBuffer(int(1e6))\n",
    "agent=[]\n",
    "for _ in range(num_agents//5):\n",
    "    a = D4PGAgent(1024,states.shape[1],action_size,51,replaybuffer)\n",
    "    agent.append(a)\n",
    "print(len(agent))"
   ]
  },
  {
   "cell_type": "code",
   "execution_count": 3,
   "metadata": {
    "scrolled": true
   },
   "outputs": [
    {
     "name": "stderr",
     "output_type": "stream",
     "text": [
      "/usr/local/lib/python3.5/dist-packages/torch/nn/functional.py:1320: UserWarning: nn.functional.tanh is deprecated. Use torch.tanh instead.\n",
      "  warnings.warn(\"nn.functional.tanh is deprecated. Use torch.tanh instead.\")\n",
      "/home/vandit/vandit/RL/projects/Assignment-2/d4pg.py:125: UserWarning: Implicit dimension choice for softmax has been deprecated. Change the call to include dim=X as an argument.\n",
      "  actor_loss = -(self.z_torch.view(1,-1) * F.softmax(self.critic_local(state,caction))).sum(-1).mean()\n"
     ]
    },
    {
     "name": "stdout",
     "output_type": "stream",
     "text": [
      "Episode 0\tTotal Average Score: 0.09\tMean: 0.09\tMin: 0.00\tMax: 0.44\tDuration: 790.07\n",
      "Episode 1\tTotal Average Score: 0.20\tMean: 0.32\tMin: 0.00\tMax: 1.14\tDuration: 801.27\n",
      "Episode 2\tTotal Average Score: 0.37\tMean: 0.70\tMin: 0.00\tMax: 1.49\tDuration: 801.56\n",
      "Episode 3\tTotal Average Score: 0.41\tMean: 0.55\tMin: 0.05\tMax: 1.28\tDuration: 800.11\n",
      "Episode 4\tTotal Average Score: 0.41\tMean: 0.41\tMin: 0.00\tMax: 1.18\tDuration: 801.37\n",
      "Episode 5\tTotal Average Score: 0.43\tMean: 0.54\tMin: 0.00\tMax: 1.38\tDuration: 800.17\n",
      "Episode 6\tTotal Average Score: 0.47\tMean: 0.69\tMin: 0.00\tMax: 1.73\tDuration: 800.61\n",
      "Episode 7\tTotal Average Score: 0.56\tMean: 1.15\tMin: 0.15\tMax: 3.02\tDuration: 800.85\n",
      "Episode 8\tTotal Average Score: 0.61\tMean: 1.08\tMin: 0.19\tMax: 1.95\tDuration: 802.00\n",
      "Episode 9\tTotal Average Score: 0.66\tMean: 1.06\tMin: 0.11\tMax: 2.01\tDuration: 800.81\n",
      "Episode 10\tTotal Average Score: 0.69\tMean: 1.03\tMin: 0.52\tMax: 1.66\tDuration: 801.02\n",
      "Episode 11\tTotal Average Score: 0.77\tMean: 1.59\tMin: 0.77\tMax: 2.94\tDuration: 800.98\n",
      "Episode 12\tTotal Average Score: 0.86\tMean: 1.97\tMin: 0.35\tMax: 3.85\tDuration: 801.42\n",
      "Episode 13\tTotal Average Score: 0.94\tMean: 1.95\tMin: 0.95\tMax: 3.65\tDuration: 802.48\n",
      "Episode 14\tTotal Average Score: 1.03\tMean: 2.32\tMin: 0.37\tMax: 4.23\tDuration: 801.36\n",
      "Episode 15\tTotal Average Score: 1.15\tMean: 3.04\tMin: 0.80\tMax: 5.61\tDuration: 808.35\n",
      "Episode 16\tTotal Average Score: 1.33\tMean: 4.08\tMin: 1.33\tMax: 7.74\tDuration: 806.55\n",
      "Episode 17\tTotal Average Score: 1.53\tMean: 4.92\tMin: 1.80\tMax: 8.54\tDuration: 807.60\n",
      "Episode 18\tTotal Average Score: 1.80\tMean: 6.81\tMin: 3.11\tMax: 9.57\tDuration: 806.19\n",
      "Episode 19\tTotal Average Score: 2.07\tMean: 7.21\tMin: 2.33\tMax: 11.70\tDuration: 806.03\n",
      "Episode 20\tTotal Average Score: 2.51\tMean: 11.23\tMin: 5.16\tMax: 17.70\tDuration: 806.72\n",
      "Episode 21\tTotal Average Score: 3.02\tMean: 13.68\tMin: 4.38\tMax: 24.59\tDuration: 807.25\n",
      "Episode 22\tTotal Average Score: 3.72\tMean: 19.19\tMin: 8.10\tMax: 29.61\tDuration: 807.34\n",
      "Episode 23\tTotal Average Score: 4.53\tMean: 23.17\tMin: 12.88\tMax: 32.55\tDuration: 806.85\n",
      "Episode 24\tTotal Average Score: 5.39\tMean: 25.89\tMin: 15.81\tMax: 37.04\tDuration: 806.76\n",
      "Episode 25\tTotal Average Score: 6.33\tMean: 30.01\tMin: 21.90\tMax: 36.55\tDuration: 806.86\n",
      "Episode 26\tTotal Average Score: 7.36\tMean: 34.18\tMin: 27.22\tMax: 37.96\tDuration: 807.48\n",
      "Episode 27\tTotal Average Score: 8.34\tMean: 34.56\tMin: 30.54\tMax: 37.92\tDuration: 806.99\n",
      "Episode 28\tTotal Average Score: 9.28\tMean: 35.85\tMin: 31.37\tMax: 38.52\tDuration: 806.73\n",
      "Episode 29\tTotal Average Score: 10.14\tMean: 34.93\tMin: 31.06\tMax: 37.92\tDuration: 807.76\n",
      "Episode 30\tTotal Average Score: 11.00\tMean: 36.95\tMin: 32.85\tMax: 39.09\tDuration: 806.09\n",
      "Episode 31\tTotal Average Score: 11.82\tMean: 37.12\tMin: 28.94\tMax: 39.45\tDuration: 806.92\n",
      "Episode 32\tTotal Average Score: 12.60\tMean: 37.39\tMin: 32.80\tMax: 39.23\tDuration: 806.31\n",
      "Episode 33\tTotal Average Score: 13.35\tMean: 38.12\tMin: 33.72\tMax: 39.51\tDuration: 806.24\n",
      "Episode 34\tTotal Average Score: 14.04\tMean: 37.67\tMin: 33.22\tMax: 39.65\tDuration: 806.73\n",
      "Episode 35\tTotal Average Score: 14.70\tMean: 37.70\tMin: 34.05\tMax: 39.31\tDuration: 807.34\n",
      "Episode 36\tTotal Average Score: 15.35\tMean: 38.72\tMin: 36.73\tMax: 39.56\tDuration: 807.00\n",
      "Episode 37\tTotal Average Score: 15.96\tMean: 38.45\tMin: 35.66\tMax: 39.52\tDuration: 807.28\n",
      "Episode 38\tTotal Average Score: 16.52\tMean: 38.02\tMin: 34.84\tMax: 39.58\tDuration: 809.60\n",
      "Episode 39\tTotal Average Score: 17.08\tMean: 38.69\tMin: 37.45\tMax: 39.54\tDuration: 810.87\n",
      "Episode 40\tTotal Average Score: 17.61\tMean: 38.82\tMin: 36.46\tMax: 39.61\tDuration: 814.76\n",
      "Episode 41\tTotal Average Score: 18.11\tMean: 38.68\tMin: 36.93\tMax: 39.54\tDuration: 816.67\n",
      "Episode 42\tTotal Average Score: 18.57\tMean: 38.17\tMin: 35.56\tMax: 39.58\tDuration: 819.24\n",
      "Episode 43\tTotal Average Score: 19.04\tMean: 39.04\tMin: 38.04\tMax: 39.62\tDuration: 821.96\n",
      "Episode 44\tTotal Average Score: 19.48\tMean: 38.70\tMin: 36.44\tMax: 39.58\tDuration: 825.84\n",
      "Episode 45\tTotal Average Score: 19.89\tMean: 38.65\tMin: 36.58\tMax: 39.62\tDuration: 826.89\n",
      "Episode 46\tTotal Average Score: 20.29\tMean: 38.64\tMin: 37.58\tMax: 39.60\tDuration: 830.22\n",
      "Episode 47\tTotal Average Score: 20.68\tMean: 38.93\tMin: 37.73\tMax: 39.58\tDuration: 832.89\n",
      "Episode 48\tTotal Average Score: 21.05\tMean: 38.63\tMin: 36.36\tMax: 39.55\tDuration: 836.82\n",
      "Episode 49\tTotal Average Score: 21.40\tMean: 38.80\tMin: 35.57\tMax: 39.63\tDuration: 838.76\n",
      "Episode 50\tTotal Average Score: 21.74\tMean: 38.87\tMin: 38.00\tMax: 39.56\tDuration: 842.29\n",
      "Episode 51\tTotal Average Score: 22.08\tMean: 39.10\tMin: 37.80\tMax: 39.62\tDuration: 840.77\n",
      "Episode 52\tTotal Average Score: 22.39\tMean: 38.86\tMin: 37.13\tMax: 39.60\tDuration: 842.03\n",
      "Episode 53\tTotal Average Score: 22.70\tMean: 38.69\tMin: 37.57\tMax: 39.59\tDuration: 843.53\n",
      "Episode 54\tTotal Average Score: 22.99\tMean: 38.57\tMin: 35.86\tMax: 39.62\tDuration: 843.71\n",
      "Episode 55\tTotal Average Score: 23.27\tMean: 38.75\tMin: 36.28\tMax: 39.55\tDuration: 845.20\n",
      "Episode 56\tTotal Average Score: 23.54\tMean: 39.08\tMin: 37.64\tMax: 39.59\tDuration: 845.84\n",
      "Episode 57\tTotal Average Score: 23.81\tMean: 38.85\tMin: 37.23\tMax: 39.61\tDuration: 895.55\n",
      "Episode 58\tTotal Average Score: 24.07\tMean: 39.28\tMin: 38.48\tMax: 39.59\tDuration: 847.30\n",
      "Episode 59\tTotal Average Score: 24.31\tMean: 38.58\tMin: 37.38\tMax: 39.55\tDuration: 849.98\n",
      "Episode 60\tTotal Average Score: 24.55\tMean: 39.12\tMin: 37.89\tMax: 39.60\tDuration: 849.77\n",
      "Episode 61\tTotal Average Score: 24.79\tMean: 39.16\tMin: 38.46\tMax: 39.58\tDuration: 852.01\n",
      "Episode 62\tTotal Average Score: 25.01\tMean: 38.57\tMin: 36.90\tMax: 39.55\tDuration: 852.11\n",
      "Episode 63\tTotal Average Score: 25.23\tMean: 39.03\tMin: 38.13\tMax: 39.60\tDuration: 852.35\n",
      "Episode 64\tTotal Average Score: 25.43\tMean: 38.63\tMin: 37.16\tMax: 39.52\tDuration: 853.03\n",
      "Episode 65\tTotal Average Score: 25.64\tMean: 38.79\tMin: 37.48\tMax: 39.54\tDuration: 854.65\n",
      "Episode 66\tTotal Average Score: 25.84\tMean: 39.15\tMin: 38.17\tMax: 39.56\tDuration: 855.02\n",
      "Episode 67\tTotal Average Score: 26.03\tMean: 39.14\tMin: 37.03\tMax: 39.55\tDuration: 855.58\n",
      "Episode 68\tTotal Average Score: 26.22\tMean: 38.81\tMin: 36.54\tMax: 39.58\tDuration: 857.12\n",
      "Episode 69\tTotal Average Score: 26.40\tMean: 39.19\tMin: 38.16\tMax: 39.62\tDuration: 857.29\n",
      "Episode 70\tTotal Average Score: 26.57\tMean: 38.32\tMin: 36.62\tMax: 39.59\tDuration: 858.77\n",
      "Episode 71\tTotal Average Score: 26.74\tMean: 38.88\tMin: 37.97\tMax: 39.59\tDuration: 858.54\n",
      "Episode 72\tTotal Average Score: 26.91\tMean: 39.01\tMin: 37.90\tMax: 39.58\tDuration: 860.06\n",
      "Episode 73\tTotal Average Score: 27.07\tMean: 38.63\tMin: 36.78\tMax: 39.56\tDuration: 861.16\n",
      "Episode 74\tTotal Average Score: 27.22\tMean: 38.69\tMin: 37.64\tMax: 39.42\tDuration: 862.99\n",
      "Episode 75\tTotal Average Score: 27.38\tMean: 38.86\tMin: 36.89\tMax: 39.55\tDuration: 883.50\n",
      "Episode 76\tTotal Average Score: 27.53\tMean: 38.94\tMin: 36.30\tMax: 39.54\tDuration: 863.50\n",
      "Episode 77\tTotal Average Score: 27.67\tMean: 38.80\tMin: 37.52\tMax: 39.60\tDuration: 863.93\n",
      "Episode 78\tTotal Average Score: 27.82\tMean: 39.18\tMin: 38.42\tMax: 39.58\tDuration: 865.19\n",
      "Episode 79\tTotal Average Score: 27.95\tMean: 38.24\tMin: 35.68\tMax: 39.52\tDuration: 866.06\n",
      "Episode 80\tTotal Average Score: 28.08\tMean: 38.37\tMin: 36.31\tMax: 39.37\tDuration: 866.68\n"
     ]
    },
    {
     "ename": "KeyboardInterrupt",
     "evalue": "",
     "output_type": "error",
     "traceback": [
      "\u001b[0;31m---------------------------------------------------------------------------\u001b[0m",
      "\u001b[0;31mKeyboardInterrupt\u001b[0m                         Traceback (most recent call last)",
      "\u001b[0;32m<ipython-input-3-3befdd3e4370>\u001b[0m in \u001b[0;36m<module>\u001b[0;34m\u001b[0m\n\u001b[1;32m     30\u001b[0m                 \u001b[0;31m#print(agent_no)\u001b[0m\u001b[0;34m\u001b[0m\u001b[0;34m\u001b[0m\u001b[0m\n\u001b[1;32m     31\u001b[0m                 \u001b[0;32mfor\u001b[0m \u001b[0m_\u001b[0m \u001b[0;32min\u001b[0m \u001b[0mrange\u001b[0m\u001b[0;34m(\u001b[0m\u001b[0;36m10\u001b[0m\u001b[0;34m)\u001b[0m\u001b[0;34m:\u001b[0m\u001b[0;34m\u001b[0m\u001b[0m\n\u001b[0;32m---> 32\u001b[0;31m                     \u001b[0magent\u001b[0m\u001b[0;34m[\u001b[0m\u001b[0magent_no\u001b[0m\u001b[0;34m]\u001b[0m\u001b[0;34m.\u001b[0m\u001b[0mlearn\u001b[0m\u001b[0;34m(\u001b[0m\u001b[0;34m)\u001b[0m\u001b[0;34m\u001b[0m\u001b[0m\n\u001b[0m\u001b[1;32m     33\u001b[0m                 \u001b[0;31m#agent[agent_no].update_lr()\u001b[0m\u001b[0;34m\u001b[0m\u001b[0;34m\u001b[0m\u001b[0m\n\u001b[1;32m     34\u001b[0m \u001b[0;34m\u001b[0m\u001b[0m\n",
      "\u001b[0;32m~/vandit/RL/projects/Assignment-2/d4pg.py\u001b[0m in \u001b[0;36mlearn\u001b[0;34m(self)\u001b[0m\n\u001b[1;32m    118\u001b[0m         \u001b[0mcritic_loss\u001b[0m \u001b[0;34m=\u001b[0m \u001b[0;34m(\u001b[0m\u001b[0;34m-\u001b[0m\u001b[0mprob\u001b[0m \u001b[0;34m*\u001b[0m \u001b[0mtarget_prob\u001b[0m\u001b[0;34m)\u001b[0m\u001b[0;34m.\u001b[0m\u001b[0msum\u001b[0m\u001b[0;34m(\u001b[0m\u001b[0;34m-\u001b[0m\u001b[0;36m1\u001b[0m\u001b[0;34m)\u001b[0m\u001b[0;34m.\u001b[0m\u001b[0mmean\u001b[0m\u001b[0;34m(\u001b[0m\u001b[0;34m)\u001b[0m\u001b[0;34m\u001b[0m\u001b[0m\n\u001b[1;32m    119\u001b[0m         \u001b[0mself\u001b[0m\u001b[0;34m.\u001b[0m\u001b[0moptim_critic\u001b[0m\u001b[0;34m.\u001b[0m\u001b[0mzero_grad\u001b[0m\u001b[0;34m(\u001b[0m\u001b[0;34m)\u001b[0m\u001b[0;34m\u001b[0m\u001b[0m\n\u001b[0;32m--> 120\u001b[0;31m         \u001b[0mcritic_loss\u001b[0m\u001b[0;34m.\u001b[0m\u001b[0mbackward\u001b[0m\u001b[0;34m(\u001b[0m\u001b[0;34m)\u001b[0m\u001b[0;34m\u001b[0m\u001b[0m\n\u001b[0m\u001b[1;32m    121\u001b[0m \u001b[0;31m#         torch.nn.utils.clip_grad_norm(self.critic_local.parameters(), 1)\u001b[0m\u001b[0;34m\u001b[0m\u001b[0;34m\u001b[0m\u001b[0m\n\u001b[1;32m    122\u001b[0m         \u001b[0mself\u001b[0m\u001b[0;34m.\u001b[0m\u001b[0moptim_critic\u001b[0m\u001b[0;34m.\u001b[0m\u001b[0mstep\u001b[0m\u001b[0;34m(\u001b[0m\u001b[0;34m)\u001b[0m\u001b[0;34m\u001b[0m\u001b[0m\n",
      "\u001b[0;32m/usr/local/lib/python3.5/dist-packages/torch/tensor.py\u001b[0m in \u001b[0;36mbackward\u001b[0;34m(self, gradient, retain_graph, create_graph)\u001b[0m\n\u001b[1;32m    100\u001b[0m                 \u001b[0mproducts\u001b[0m\u001b[0;34m.\u001b[0m \u001b[0mDefaults\u001b[0m \u001b[0mto\u001b[0m\u001b[0;31m \u001b[0m\u001b[0;31m`\u001b[0m\u001b[0;31m`\u001b[0m\u001b[0;32mFalse\u001b[0m\u001b[0;31m`\u001b[0m\u001b[0;31m`\u001b[0m\u001b[0;34m.\u001b[0m\u001b[0;34m\u001b[0m\u001b[0m\n\u001b[1;32m    101\u001b[0m         \"\"\"\n\u001b[0;32m--> 102\u001b[0;31m         \u001b[0mtorch\u001b[0m\u001b[0;34m.\u001b[0m\u001b[0mautograd\u001b[0m\u001b[0;34m.\u001b[0m\u001b[0mbackward\u001b[0m\u001b[0;34m(\u001b[0m\u001b[0mself\u001b[0m\u001b[0;34m,\u001b[0m \u001b[0mgradient\u001b[0m\u001b[0;34m,\u001b[0m \u001b[0mretain_graph\u001b[0m\u001b[0;34m,\u001b[0m \u001b[0mcreate_graph\u001b[0m\u001b[0;34m)\u001b[0m\u001b[0;34m\u001b[0m\u001b[0m\n\u001b[0m\u001b[1;32m    103\u001b[0m \u001b[0;34m\u001b[0m\u001b[0m\n\u001b[1;32m    104\u001b[0m     \u001b[0;32mdef\u001b[0m \u001b[0mregister_hook\u001b[0m\u001b[0;34m(\u001b[0m\u001b[0mself\u001b[0m\u001b[0;34m,\u001b[0m \u001b[0mhook\u001b[0m\u001b[0;34m)\u001b[0m\u001b[0;34m:\u001b[0m\u001b[0;34m\u001b[0m\u001b[0m\n",
      "\u001b[0;32m/usr/local/lib/python3.5/dist-packages/torch/autograd/__init__.py\u001b[0m in \u001b[0;36mbackward\u001b[0;34m(tensors, grad_tensors, retain_graph, create_graph, grad_variables)\u001b[0m\n\u001b[1;32m     88\u001b[0m     Variable._execution_engine.run_backward(\n\u001b[1;32m     89\u001b[0m         \u001b[0mtensors\u001b[0m\u001b[0;34m,\u001b[0m \u001b[0mgrad_tensors\u001b[0m\u001b[0;34m,\u001b[0m \u001b[0mretain_graph\u001b[0m\u001b[0;34m,\u001b[0m \u001b[0mcreate_graph\u001b[0m\u001b[0;34m,\u001b[0m\u001b[0;34m\u001b[0m\u001b[0m\n\u001b[0;32m---> 90\u001b[0;31m         allow_unreachable=True)  # allow_unreachable flag\n\u001b[0m\u001b[1;32m     91\u001b[0m \u001b[0;34m\u001b[0m\u001b[0m\n\u001b[1;32m     92\u001b[0m \u001b[0;34m\u001b[0m\u001b[0m\n",
      "\u001b[0;31mKeyboardInterrupt\u001b[0m: "
     ]
    }
   ],
   "source": [
    "from collections import deque\n",
    "import time\n",
    "import matplotlib.pyplot as plt\n",
    "%matplotlib inline\n",
    "avg_reward = deque(maxlen=100)\n",
    "max_step = 100\n",
    "epoches = 200\n",
    "scores_all=[]\n",
    "for epoch in range(epoches):\n",
    "    env_info = env.reset(train_mode=True)[brain_name]\n",
    "    states = env_info.vector_observations\n",
    "    scores = np.zeros(num_agents)\n",
    "    for agent_no in range(num_agents//5):\n",
    "        agent[agent_no].reset()\n",
    "    \n",
    "    start_time = time.time()\n",
    "    for i in range(1000):\n",
    "        actions = []\n",
    "        for agent_no in range(num_agents//5):\n",
    "            actions.extend(agent[agent_no].policy(states[agent_no*5:agent_no*5+5,:]))# select an action (for each agent)\n",
    "        actions = np.array(actions)\n",
    "        env_info = env.step(actions)[brain_name]           # send all actions to tne environment\n",
    "        next_states = env_info.vector_observations         # get next state (for each agent)\n",
    "        rewards = env_info.rewards                         # get reward (for each agent)\n",
    "        dones = env_info.local_done                        # see if episode finished\n",
    "        for j in range(num_agents):\n",
    "            replaybuffer.Add(states[j,:], actions[j], rewards[j], next_states[j,:], dones[j])\n",
    "        if(i%20==0 and len(replaybuffer)>1024):\n",
    "            for agent_no in range(num_agents//5):\n",
    "                #print(agent_no)\n",
    "                for _ in range(10):\n",
    "                    agent[agent_no].learn()\n",
    "                #agent[agent_no].update_lr()\n",
    "        \n",
    "        scores += env_info.rewards                         # update the score (for each agent)\n",
    "        states = next_states                               # roll over states to next time step\n",
    "        if np.any(dones):                                  # exit loop if episode finished\n",
    "            break\n",
    "    avg_reward.append(np.mean(scores))\n",
    "    scores_all.append(np.mean(scores))\n",
    "    duration = time.time() - start_time\n",
    "    total_average_score=np.mean(avg_reward)\n",
    "    mean_score=np.mean(scores)\n",
    "    min_score=np.min(scores)\n",
    "    max_score=np.max(scores)\n",
    "    print('\\rEpisode {}\\tTotal Average Score: {:.2f}\\tMean: {:.2f}\\tMin: {:.2f}\\tMax: {:.2f}\\tDuration: {:.2f}'\n",
    "              .format(epoch, total_average_score, mean_score, min_score, max_score, duration))\n",
    "    if total_average_score >= 30.0 and epoch >= 100:\n",
    "        print('Problem Solved after {} epsisodes!! Total Average score: {:.2f}'.format(epoch, total_average_score))\n",
    "        torch.save(agent[0].actor_local.state_dict(), 'checkpoint_actor.pth')\n",
    "        torch.save(agent[0].critic_local.state_dict(), 'checkpoint_critic.pth')\n",
    "        break\n",
    "    \n",
    "plt.plot(scores_all)\n",
    "plt.show()\n",
    "print('Total score (averaged over agents) this episode: {}'.format(np.mean(scores)))"
   ]
  },
  {
   "cell_type": "code",
   "execution_count": 1,
   "metadata": {},
   "outputs": [
    {
     "ename": "NameError",
     "evalue": "name 'DDPGAgent' is not defined",
     "output_type": "error",
     "traceback": [
      "\u001b[0;31m---------------------------------------------------------------------------\u001b[0m",
      "\u001b[0;31mNameError\u001b[0m                                 Traceback (most recent call last)",
      "\u001b[0;32m<ipython-input-1-7cdcc0ccf2bf>\u001b[0m in \u001b[0;36m<module>\u001b[0;34m\u001b[0m\n\u001b[0;32m----> 1\u001b[0;31m \u001b[0mtrained_agent\u001b[0m \u001b[0;34m=\u001b[0m \u001b[0mDDPGAgent\u001b[0m\u001b[0;34m(\u001b[0m\u001b[0;36m1024\u001b[0m\u001b[0;34m,\u001b[0m\u001b[0mstates\u001b[0m\u001b[0;34m.\u001b[0m\u001b[0mshape\u001b[0m\u001b[0;34m[\u001b[0m\u001b[0;36m1\u001b[0m\u001b[0;34m]\u001b[0m\u001b[0;34m,\u001b[0m\u001b[0maction_size\u001b[0m\u001b[0;34m,\u001b[0m\u001b[0mreplaybuffer\u001b[0m\u001b[0;34m)\u001b[0m\u001b[0;34m\u001b[0m\u001b[0m\n\u001b[0m\u001b[1;32m      2\u001b[0m \u001b[0mtrained_agent\u001b[0m\u001b[0;34m.\u001b[0m\u001b[0mactor_local\u001b[0m\u001b[0;34m.\u001b[0m\u001b[0mload_state_dict\u001b[0m\u001b[0;34m(\u001b[0m\u001b[0mtorch\u001b[0m\u001b[0;34m.\u001b[0m\u001b[0mload\u001b[0m\u001b[0;34m(\u001b[0m\u001b[0;34m'checkpoint_actor.pth'\u001b[0m\u001b[0;34m)\u001b[0m\u001b[0;34m)\u001b[0m\u001b[0;34m\u001b[0m\u001b[0m\n\u001b[1;32m      3\u001b[0m \u001b[0mtrained_agent\u001b[0m\u001b[0;34m.\u001b[0m\u001b[0mcritic_local\u001b[0m\u001b[0;34m.\u001b[0m\u001b[0mload_state_dict\u001b[0m\u001b[0;34m(\u001b[0m\u001b[0mtorch\u001b[0m\u001b[0;34m.\u001b[0m\u001b[0mload\u001b[0m\u001b[0;34m(\u001b[0m\u001b[0;34m'checkpoint_critic.pth'\u001b[0m\u001b[0;34m)\u001b[0m\u001b[0;34m)\u001b[0m\u001b[0;34m\u001b[0m\u001b[0m\n",
      "\u001b[0;31mNameError\u001b[0m: name 'DDPGAgent' is not defined"
     ]
    }
   ],
   "source": [
    "trained_agent = DDPGAgent(1024,states.shape[1],action_size,replaybuffer)\n",
    "trained_agent.actor_local.load_state_dict(torch.load('checkpoint_actor.pth'))\n",
    "trained_agent.critic_local.load_state_dict(torch.load('checkpoint_critic.pth'))"
   ]
  },
  {
   "cell_type": "code",
   "execution_count": null,
   "metadata": {},
   "outputs": [],
   "source": [
    "env_info = env.reset(train_mode=False)[brain_name]     # reset the environment    \n",
    "states = env_info.vector_observations                  # get the current state (for each agent)\n",
    "scores = np.zeros(num_agents)                          # initialize the score (for each agent)\n",
    "trained_agent.actor_local.eval()\n",
    "while True:\n",
    "    tstates = torch.from_numpy(states).to(torch.float32)\n",
    "    actions = trained_agent.actor_local(tstates).detach().numpy() # select an action (for each agent)\n",
    "    actions = np.clip(actions, -1, 1)                  # all actions between -1 and 1\n",
    "    env_info = env.step(actions)[brain_name]           # send all actions to tne environment\n",
    "    next_states = env_info.vector_observations         # get next state (for each agent)\n",
    "    rewards = env_info.rewards                         # get reward (for each agent)\n",
    "    dones = env_info.local_done                        # see if episode finished\n",
    "    scores += env_info.rewards                         # update the score (for each agent)\n",
    "    states = next_states                               # roll over states to next time step\n",
    "    if np.any(dones):                                  # exit loop if episode finished\n",
    "        break\n",
    "print('Total score (averaged over agents) this episode: {}'.format(np.mean(scores)))"
   ]
  },
  {
   "cell_type": "code",
   "execution_count": null,
   "metadata": {},
   "outputs": [],
   "source": [
    "env.close()"
   ]
  },
  {
   "cell_type": "code",
   "execution_count": null,
   "metadata": {},
   "outputs": [],
   "source": []
  }
 ],
 "metadata": {
  "kernelspec": {
   "display_name": "Python 3",
   "language": "python",
   "name": "python3"
  },
  "language_info": {
   "codemirror_mode": {
    "name": "ipython",
    "version": 3
   },
   "file_extension": ".py",
   "mimetype": "text/x-python",
   "name": "python",
   "nbconvert_exporter": "python",
   "pygments_lexer": "ipython3",
   "version": "3.5.2"
  }
 },
 "nbformat": 4,
 "nbformat_minor": 2
}
